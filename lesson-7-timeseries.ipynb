{
 "cells": [
  {
   "cell_type": "markdown",
   "id": "630651cc-66f6-4768-814e-53510d6f9469",
   "metadata": {},
   "source": [
    "18 October 2023\n",
    "\n",
    "https://carmengg.github.io/eds-220-book/lectures/lesson-7-time-series.html\n",
    "\n",
    "# Time Series\n",
    "\n",
    "## `pd.Timestamp`\n",
    "\n",
    "`pandas` represents an instant in time using the `pandas.Timestamp` class"
   ]
  },
  {
   "cell_type": "code",
   "execution_count": 1,
   "id": "d5571b66-c766-47d2-be5a-02eb81c5db90",
   "metadata": {
    "tags": []
   },
   "outputs": [
    {
     "data": {
      "text/plain": [
       "Timestamp('2020-10-18 12:30:15')"
      ]
     },
     "execution_count": 1,
     "metadata": {},
     "output_type": "execute_result"
    }
   ],
   "source": [
    "import pandas as pd\n",
    "\n",
    "# create a timestamp\n",
    "pd.Timestamp(year=2020, month=10, day=18, hour=12, minute=30, second=15)"
   ]
  },
  {
   "cell_type": "markdown",
   "id": "0c04165e-da28-4ead-ab7b-828b50c0acdb",
   "metadata": {},
   "source": [
    "When we store multiple Timestamps in a `pd.Series `(for example when we have a column of dates) the data type of the column is set to `datetime64[ns]`"
   ]
  },
  {
   "cell_type": "code",
   "execution_count": 2,
   "id": "ad9d0f7b-e237-4709-a3e7-fcddcfbbaf59",
   "metadata": {
    "tags": []
   },
   "outputs": [
    {
     "data": {
      "text/plain": [
       "0   2020-10-18\n",
       "1   2020-10-17\n",
       "2   2020-10-16\n",
       "dtype: datetime64[ns]"
      ]
     },
     "execution_count": 2,
     "metadata": {},
     "output_type": "execute_result"
    }
   ],
   "source": [
    "# Notice the dtype of the column is datetime64\n",
    "pd.Series([pd.Timestamp(2020,10,18), \n",
    "           pd.Timestamp(2020,10,17),\n",
    "           pd.Timestamp(2020,10,16)])"
   ]
  },
  {
   "cell_type": "markdown",
   "id": "5e81cd5a-2975-465f-8c0d-5234cb32f530",
   "metadata": {},
   "source": [
    "## Data: Precipitation in Boulder, CO\n",
    "\n",
    "- **STATION**: identification number indentifying the station.\n",
    "- **STATION_NAME**: optional field, name identifying the station location.\n",
    "- **DATE**: this is the year of the record (4 digits), followed by month (2 digits), followed by day of the month (2 digits), followed by a space and ending with a time of observation that is a two digit indication of the local time hour, followed by a colon (:) followed by a two digit indication of the minute which for this dataset will always be 00. Note: The subsequent data value will be for the hour ending at the time specified here. Hour 00:00 will be listed as the first hour of each date, however since this data is by definition an accumulation of the previous 60 minutes, it actually occurred on the previous day.\n",
    "- **HPCP**: The amount of precipitation recorded at the station for the hour ending at the time specified for DATE above given in inches. The values 999.99 means the data value is missing. Hours with no precipitation are not shown."
   ]
  },
  {
   "cell_type": "code",
   "execution_count": 3,
   "id": "621e2416-c49a-4917-be99-71c4befb32b6",
   "metadata": {
    "tags": []
   },
   "outputs": [
    {
     "data": {
      "text/html": [
       "<div>\n",
       "<style scoped>\n",
       "    .dataframe tbody tr th:only-of-type {\n",
       "        vertical-align: middle;\n",
       "    }\n",
       "\n",
       "    .dataframe tbody tr th {\n",
       "        vertical-align: top;\n",
       "    }\n",
       "\n",
       "    .dataframe thead th {\n",
       "        text-align: right;\n",
       "    }\n",
       "</style>\n",
       "<table border=\"1\" class=\"dataframe\">\n",
       "  <thead>\n",
       "    <tr style=\"text-align: right;\">\n",
       "      <th></th>\n",
       "      <th>STATION</th>\n",
       "      <th>STATION_NAME</th>\n",
       "      <th>DATE</th>\n",
       "      <th>HPCP</th>\n",
       "      <th>Measurement Flag</th>\n",
       "      <th>Quality Flag</th>\n",
       "    </tr>\n",
       "  </thead>\n",
       "  <tbody>\n",
       "    <tr>\n",
       "      <th>0</th>\n",
       "      <td>COOP:055881</td>\n",
       "      <td>NEDERLAND 5 NNW CO US</td>\n",
       "      <td>20000101 00:00</td>\n",
       "      <td>999.99</td>\n",
       "      <td>]</td>\n",
       "      <td></td>\n",
       "    </tr>\n",
       "    <tr>\n",
       "      <th>1</th>\n",
       "      <td>COOP:055881</td>\n",
       "      <td>NEDERLAND 5 NNW CO US</td>\n",
       "      <td>20000101 01:00</td>\n",
       "      <td>0.00</td>\n",
       "      <td>g</td>\n",
       "      <td></td>\n",
       "    </tr>\n",
       "    <tr>\n",
       "      <th>2</th>\n",
       "      <td>COOP:055881</td>\n",
       "      <td>NEDERLAND 5 NNW CO US</td>\n",
       "      <td>20000102 20:00</td>\n",
       "      <td>0.00</td>\n",
       "      <td></td>\n",
       "      <td>q</td>\n",
       "    </tr>\n",
       "    <tr>\n",
       "      <th>3</th>\n",
       "      <td>COOP:055881</td>\n",
       "      <td>NEDERLAND 5 NNW CO US</td>\n",
       "      <td>20000103 01:00</td>\n",
       "      <td>0.00</td>\n",
       "      <td></td>\n",
       "      <td>q</td>\n",
       "    </tr>\n",
       "    <tr>\n",
       "      <th>4</th>\n",
       "      <td>COOP:055881</td>\n",
       "      <td>NEDERLAND 5 NNW CO US</td>\n",
       "      <td>20000103 05:00</td>\n",
       "      <td>0.00</td>\n",
       "      <td></td>\n",
       "      <td>q</td>\n",
       "    </tr>\n",
       "  </tbody>\n",
       "</table>\n",
       "</div>"
      ],
      "text/plain": [
       "       STATION           STATION_NAME            DATE    HPCP  \\\n",
       "0  COOP:055881  NEDERLAND 5 NNW CO US  20000101 00:00  999.99   \n",
       "1  COOP:055881  NEDERLAND 5 NNW CO US  20000101 01:00    0.00   \n",
       "2  COOP:055881  NEDERLAND 5 NNW CO US  20000102 20:00    0.00   \n",
       "3  COOP:055881  NEDERLAND 5 NNW CO US  20000103 01:00    0.00   \n",
       "4  COOP:055881  NEDERLAND 5 NNW CO US  20000103 05:00    0.00   \n",
       "\n",
       "  Measurement Flag Quality Flag  \n",
       "0                ]               \n",
       "1                g               \n",
       "2                             q  \n",
       "3                             q  \n",
       "4                             q  "
      ]
     },
     "execution_count": 3,
     "metadata": {},
     "output_type": "execute_result"
    }
   ],
   "source": [
    "# read in data \n",
    "url = 'https://raw.githubusercontent.com/carmengg/eds-220-book/main/data/boulder_colorado_2013_hourly_precipitation.csv'\n",
    "precip = pd.read_csv(url)\n",
    "\n",
    "# check df's head\n",
    "precip.head()"
   ]
  },
  {
   "cell_type": "code",
   "execution_count": 4,
   "id": "d5f1065f-d297-46a3-9628-9446ecea0892",
   "metadata": {
    "tags": []
   },
   "outputs": [
    {
     "data": {
      "text/plain": [
       "<AxesSubplot:>"
      ]
     },
     "execution_count": 4,
     "metadata": {},
     "output_type": "execute_result"
    },
    {
     "data": {
      "image/png": "[encoded data removed]",
      "text/plain": [
       "<Figure size 640x480 with 1 Axes>"
      ]
     },
     "metadata": {},
     "output_type": "display_data"
    }
   ],
   "source": [
    "precip.HPCP.plot()"
   ]
  },
  {
   "cell_type": "markdown",
   "id": "74aecf7b-2aaa-4fc3-ad27-3b5f015862a4",
   "metadata": {},
   "source": [
    "- There are many jumps close to 1000. This is clearly not right and these are outliers. Looking at the column description we can see 999.99 indicates the HPCP data is missing.\n",
    "\n",
    "- The x-axis values are given by the index of the dataframe and not relative to time.\n",
    "\n",
    "- We are only intersted in the precipitation data from 2013, this graph is trying to plot all our data."
   ]
  },
  {
   "cell_type": "markdown",
   "id": "a6ca00f6-6ed4-49b1-ac24-612745939dfb",
   "metadata": {},
   "source": [
    "### Indicate missing data\n",
    "\n",
    "To indicate missing dara, we add the na_values parameter to the pd.read_csv() function to indicitate additional values that should be recognized as NA"
   ]
  },
  {
   "cell_type": "code",
   "execution_count": 5,
   "id": "fdb7784c-34b6-47d7-9d97-6e40489eaf2a",
   "metadata": {
    "tags": []
   },
   "outputs": [
    {
     "data": {
      "text/html": [
       "<div>\n",
       "<style scoped>\n",
       "    .dataframe tbody tr th:only-of-type {\n",
       "        vertical-align: middle;\n",
       "    }\n",
       "\n",
       "    .dataframe tbody tr th {\n",
       "        vertical-align: top;\n",
       "    }\n",
       "\n",
       "    .dataframe thead th {\n",
       "        text-align: right;\n",
       "    }\n",
       "</style>\n",
       "<table border=\"1\" class=\"dataframe\">\n",
       "  <thead>\n",
       "    <tr style=\"text-align: right;\">\n",
       "      <th></th>\n",
       "      <th>STATION</th>\n",
       "      <th>STATION_NAME</th>\n",
       "      <th>DATE</th>\n",
       "      <th>HPCP</th>\n",
       "      <th>Measurement Flag</th>\n",
       "      <th>Quality Flag</th>\n",
       "    </tr>\n",
       "  </thead>\n",
       "  <tbody>\n",
       "    <tr>\n",
       "      <th>0</th>\n",
       "      <td>COOP:055881</td>\n",
       "      <td>NEDERLAND 5 NNW CO US</td>\n",
       "      <td>20000101 00:00</td>\n",
       "      <td>NaN</td>\n",
       "      <td>]</td>\n",
       "      <td></td>\n",
       "    </tr>\n",
       "    <tr>\n",
       "      <th>1</th>\n",
       "      <td>COOP:055881</td>\n",
       "      <td>NEDERLAND 5 NNW CO US</td>\n",
       "      <td>20000101 01:00</td>\n",
       "      <td>0.0</td>\n",
       "      <td>g</td>\n",
       "      <td></td>\n",
       "    </tr>\n",
       "    <tr>\n",
       "      <th>2</th>\n",
       "      <td>COOP:055881</td>\n",
       "      <td>NEDERLAND 5 NNW CO US</td>\n",
       "      <td>20000102 20:00</td>\n",
       "      <td>0.0</td>\n",
       "      <td></td>\n",
       "      <td>q</td>\n",
       "    </tr>\n",
       "    <tr>\n",
       "      <th>3</th>\n",
       "      <td>COOP:055881</td>\n",
       "      <td>NEDERLAND 5 NNW CO US</td>\n",
       "      <td>20000103 01:00</td>\n",
       "      <td>0.0</td>\n",
       "      <td></td>\n",
       "      <td>q</td>\n",
       "    </tr>\n",
       "    <tr>\n",
       "      <th>4</th>\n",
       "      <td>COOP:055881</td>\n",
       "      <td>NEDERLAND 5 NNW CO US</td>\n",
       "      <td>20000103 05:00</td>\n",
       "      <td>0.0</td>\n",
       "      <td></td>\n",
       "      <td>q</td>\n",
       "    </tr>\n",
       "  </tbody>\n",
       "</table>\n",
       "</div>"
      ],
      "text/plain": [
       "       STATION           STATION_NAME            DATE  HPCP Measurement Flag  \\\n",
       "0  COOP:055881  NEDERLAND 5 NNW CO US  20000101 00:00   NaN                ]   \n",
       "1  COOP:055881  NEDERLAND 5 NNW CO US  20000101 01:00   0.0                g   \n",
       "2  COOP:055881  NEDERLAND 5 NNW CO US  20000102 20:00   0.0                    \n",
       "3  COOP:055881  NEDERLAND 5 NNW CO US  20000103 01:00   0.0                    \n",
       "4  COOP:055881  NEDERLAND 5 NNW CO US  20000103 05:00   0.0                    \n",
       "\n",
       "  Quality Flag  \n",
       "0               \n",
       "1               \n",
       "2            q  \n",
       "3            q  \n",
       "4            q  "
      ]
     },
     "execution_count": 5,
     "metadata": {},
     "output_type": "execute_result"
    }
   ],
   "source": [
    "# read in csv indicating NA values\n",
    "precip = pd.read_csv(url, na_values=[999.99])\n",
    "\n",
    "# check updated df\n",
    "precip.head()"
   ]
  },
  {
   "cell_type": "code",
   "execution_count": 6,
   "id": "06c6049d-b132-4bd6-80ba-14131bd13cb9",
   "metadata": {
    "tags": []
   },
   "outputs": [
    {
     "data": {
      "text/plain": [
       "<AxesSubplot:>"
      ]
     },
     "execution_count": 6,
     "metadata": {},
     "output_type": "execute_result"
    },
    {
     "data": {
      "image/png": "[encoded data removed]",
      "text/plain": [
       "<Figure size 640x480 with 1 Axes>"
      ]
     },
     "metadata": {},
     "output_type": "display_data"
    }
   ],
   "source": [
    "precip.HPCP.plot()"
   ]
  },
  {
   "cell_type": "markdown",
   "id": "bd5decbd-c276-4826-b1eb-e623ba9f3154",
   "metadata": {},
   "source": [
    "### Strings into Dates\n",
    "\n",
    "Notice that the DATE column in our dataframe is not of type `datetime`. We can check this using the `dtypes` attribute for dataframes"
   ]
  },
  {
   "cell_type": "code",
   "execution_count": 7,
   "id": "ccf60a8e-2d5c-4528-b509-79a8595b914c",
   "metadata": {
    "tags": []
   },
   "outputs": [
    {
     "data": {
      "text/plain": [
       "STATION              object\n",
       "STATION_NAME         object\n",
       "DATE                 object\n",
       "HPCP                float64\n",
       "Measurement Flag     object\n",
       "Quality Flag         object\n",
       "dtype: object"
      ]
     },
     "execution_count": 7,
     "metadata": {},
     "output_type": "execute_result"
    }
   ],
   "source": [
    "# check the dtypes of all columns\n",
    "precip.dtypes"
   ]
  },
  {
   "cell_type": "markdown",
   "id": "644f74cf-f8d6-4ce6-bc84-a39e0c3929db",
   "metadata": {},
   "source": [
    "- `pd.to_datetime()` input: a `pd.Series` with strings that can be converted to dates\n",
    "- `pd.to_datetime()` output: a `pd.Series` with the strings converted to `datetime` objects"
   ]
  },
  {
   "cell_type": "code",
   "execution_count": 8,
   "id": "a29ddd74-4179-41ed-af20-20051d8431d0",
   "metadata": {
    "tags": []
   },
   "outputs": [
    {
     "data": {
      "text/plain": [
       "0      2000-01-01 00:00:00\n",
       "1      2000-01-01 01:00:00\n",
       "2      2000-01-02 20:00:00\n",
       "3      2000-01-03 01:00:00\n",
       "4      2000-01-03 05:00:00\n",
       "               ...        \n",
       "9001   2013-12-22 01:00:00\n",
       "9002   2013-12-23 00:00:00\n",
       "9003   2013-12-23 02:00:00\n",
       "9004   2013-12-29 01:00:00\n",
       "9005   2013-12-31 00:00:00\n",
       "Name: DATE, Length: 9006, dtype: datetime64[ns]"
      ]
     },
     "execution_count": 8,
     "metadata": {},
     "output_type": "execute_result"
    }
   ],
   "source": [
    "# covert precip.DATE column to timedate objects\n",
    "pd.to_datetime(precip.DATE)"
   ]
  },
  {
   "cell_type": "code",
   "execution_count": 9,
   "id": "0f0677c0-6185-4bd0-a229-7bdd1cb70c52",
   "metadata": {
    "tags": []
   },
   "outputs": [
    {
     "name": "stdout",
     "output_type": "stream",
     "text": [
      "STATION                     object\n",
      "STATION_NAME                object\n",
      "DATE                datetime64[ns]\n",
      "HPCP                       float64\n",
      "Measurement Flag            object\n",
      "Quality Flag                object\n",
      "dtype: object\n"
     ]
    },
    {
     "data": {
      "text/html": [
       "<div>\n",
       "<style scoped>\n",
       "    .dataframe tbody tr th:only-of-type {\n",
       "        vertical-align: middle;\n",
       "    }\n",
       "\n",
       "    .dataframe tbody tr th {\n",
       "        vertical-align: top;\n",
       "    }\n",
       "\n",
       "    .dataframe thead th {\n",
       "        text-align: right;\n",
       "    }\n",
       "</style>\n",
       "<table border=\"1\" class=\"dataframe\">\n",
       "  <thead>\n",
       "    <tr style=\"text-align: right;\">\n",
       "      <th></th>\n",
       "      <th>STATION</th>\n",
       "      <th>STATION_NAME</th>\n",
       "      <th>DATE</th>\n",
       "      <th>HPCP</th>\n",
       "      <th>Measurement Flag</th>\n",
       "      <th>Quality Flag</th>\n",
       "    </tr>\n",
       "  </thead>\n",
       "  <tbody>\n",
       "    <tr>\n",
       "      <th>0</th>\n",
       "      <td>COOP:055881</td>\n",
       "      <td>NEDERLAND 5 NNW CO US</td>\n",
       "      <td>2000-01-01 00:00:00</td>\n",
       "      <td>NaN</td>\n",
       "      <td>]</td>\n",
       "      <td></td>\n",
       "    </tr>\n",
       "    <tr>\n",
       "      <th>1</th>\n",
       "      <td>COOP:055881</td>\n",
       "      <td>NEDERLAND 5 NNW CO US</td>\n",
       "      <td>2000-01-01 01:00:00</td>\n",
       "      <td>0.0</td>\n",
       "      <td>g</td>\n",
       "      <td></td>\n",
       "    </tr>\n",
       "    <tr>\n",
       "      <th>2</th>\n",
       "      <td>COOP:055881</td>\n",
       "      <td>NEDERLAND 5 NNW CO US</td>\n",
       "      <td>2000-01-02 20:00:00</td>\n",
       "      <td>0.0</td>\n",
       "      <td></td>\n",
       "      <td>q</td>\n",
       "    </tr>\n",
       "    <tr>\n",
       "      <th>3</th>\n",
       "      <td>COOP:055881</td>\n",
       "      <td>NEDERLAND 5 NNW CO US</td>\n",
       "      <td>2000-01-03 01:00:00</td>\n",
       "      <td>0.0</td>\n",
       "      <td></td>\n",
       "      <td>q</td>\n",
       "    </tr>\n",
       "    <tr>\n",
       "      <th>4</th>\n",
       "      <td>COOP:055881</td>\n",
       "      <td>NEDERLAND 5 NNW CO US</td>\n",
       "      <td>2000-01-03 05:00:00</td>\n",
       "      <td>0.0</td>\n",
       "      <td></td>\n",
       "      <td>q</td>\n",
       "    </tr>\n",
       "  </tbody>\n",
       "</table>\n",
       "</div>"
      ],
      "text/plain": [
       "       STATION           STATION_NAME                DATE  HPCP  \\\n",
       "0  COOP:055881  NEDERLAND 5 NNW CO US 2000-01-01 00:00:00   NaN   \n",
       "1  COOP:055881  NEDERLAND 5 NNW CO US 2000-01-01 01:00:00   0.0   \n",
       "2  COOP:055881  NEDERLAND 5 NNW CO US 2000-01-02 20:00:00   0.0   \n",
       "3  COOP:055881  NEDERLAND 5 NNW CO US 2000-01-03 01:00:00   0.0   \n",
       "4  COOP:055881  NEDERLAND 5 NNW CO US 2000-01-03 05:00:00   0.0   \n",
       "\n",
       "  Measurement Flag Quality Flag  \n",
       "0                ]               \n",
       "1                g               \n",
       "2                             q  \n",
       "3                             q  \n",
       "4                             q  "
      ]
     },
     "execution_count": 9,
     "metadata": {},
     "output_type": "execute_result"
    }
   ],
   "source": [
    "# convert DATE column from string to datetime\n",
    "precip.DATE = pd.to_datetime(precip.DATE)\n",
    "\n",
    "# check column data type is updated\n",
    "print(precip.dtypes)\n",
    "\n",
    "# check new values\n",
    "precip.head()"
   ]
  },
  {
   "cell_type": "code",
   "execution_count": 10,
   "id": "29892f16-2cda-4f20-b1a4-986c451ee9c1",
   "metadata": {
    "tags": []
   },
   "outputs": [
    {
     "data": {
      "text/plain": [
       "<AxesSubplot:xlabel='DATE'>"
      ]
     },
     "execution_count": 10,
     "metadata": {},
     "output_type": "execute_result"
    },
    {
     "data": {
      "image/png": "[encoded data removed]",
      "text/plain": [
       "<Figure size 640x480 with 1 Axes>"
      ]
     },
     "metadata": {},
     "output_type": "display_data"
    }
   ],
   "source": [
    "precip.plot(x='DATE', y='HPCP')"
   ]
  },
  {
   "cell_type": "markdown",
   "id": "0aa1a60f-4b3e-44af-8ec8-bac0d21b1a15",
   "metadata": {},
   "source": [
    "### Timestamp Index\n",
    "\n",
    "Using our DATE column as the index will allows us to do many operations with respect to time, including subsetting and resampling.\n",
    "\n",
    "Updating the index of a dataframe is simple, we use the `set_index()` method"
   ]
  },
  {
   "cell_type": "code",
   "execution_count": 12,
   "id": "88948e84-3cdb-4439-91a5-cbd1862b2f63",
   "metadata": {
    "tags": []
   },
   "outputs": [
    {
     "data": {
      "text/html": [
       "<div>\n",
       "<style scoped>\n",
       "    .dataframe tbody tr th:only-of-type {\n",
       "        vertical-align: middle;\n",
       "    }\n",
       "\n",
       "    .dataframe tbody tr th {\n",
       "        vertical-align: top;\n",
       "    }\n",
       "\n",
       "    .dataframe thead th {\n",
       "        text-align: right;\n",
       "    }\n",
       "</style>\n",
       "<table border=\"1\" class=\"dataframe\">\n",
       "  <thead>\n",
       "    <tr style=\"text-align: right;\">\n",
       "      <th></th>\n",
       "      <th>STATION</th>\n",
       "      <th>STATION_NAME</th>\n",
       "      <th>HPCP</th>\n",
       "      <th>Measurement Flag</th>\n",
       "      <th>Quality Flag</th>\n",
       "    </tr>\n",
       "    <tr>\n",
       "      <th>DATE</th>\n",
       "      <th></th>\n",
       "      <th></th>\n",
       "      <th></th>\n",
       "      <th></th>\n",
       "      <th></th>\n",
       "    </tr>\n",
       "  </thead>\n",
       "  <tbody>\n",
       "    <tr>\n",
       "      <th>2000-01-01 00:00:00</th>\n",
       "      <td>COOP:055881</td>\n",
       "      <td>NEDERLAND 5 NNW CO US</td>\n",
       "      <td>NaN</td>\n",
       "      <td>]</td>\n",
       "      <td></td>\n",
       "    </tr>\n",
       "    <tr>\n",
       "      <th>2000-01-01 01:00:00</th>\n",
       "      <td>COOP:055881</td>\n",
       "      <td>NEDERLAND 5 NNW CO US</td>\n",
       "      <td>0.0</td>\n",
       "      <td>g</td>\n",
       "      <td></td>\n",
       "    </tr>\n",
       "    <tr>\n",
       "      <th>2000-01-02 20:00:00</th>\n",
       "      <td>COOP:055881</td>\n",
       "      <td>NEDERLAND 5 NNW CO US</td>\n",
       "      <td>0.0</td>\n",
       "      <td></td>\n",
       "      <td>q</td>\n",
       "    </tr>\n",
       "    <tr>\n",
       "      <th>2000-01-03 01:00:00</th>\n",
       "      <td>COOP:055881</td>\n",
       "      <td>NEDERLAND 5 NNW CO US</td>\n",
       "      <td>0.0</td>\n",
       "      <td></td>\n",
       "      <td>q</td>\n",
       "    </tr>\n",
       "    <tr>\n",
       "      <th>2000-01-03 05:00:00</th>\n",
       "      <td>COOP:055881</td>\n",
       "      <td>NEDERLAND 5 NNW CO US</td>\n",
       "      <td>0.0</td>\n",
       "      <td></td>\n",
       "      <td>q</td>\n",
       "    </tr>\n",
       "  </tbody>\n",
       "</table>\n",
       "</div>"
      ],
      "text/plain": [
       "                         STATION           STATION_NAME  HPCP  \\\n",
       "DATE                                                            \n",
       "2000-01-01 00:00:00  COOP:055881  NEDERLAND 5 NNW CO US   NaN   \n",
       "2000-01-01 01:00:00  COOP:055881  NEDERLAND 5 NNW CO US   0.0   \n",
       "2000-01-02 20:00:00  COOP:055881  NEDERLAND 5 NNW CO US   0.0   \n",
       "2000-01-03 01:00:00  COOP:055881  NEDERLAND 5 NNW CO US   0.0   \n",
       "2000-01-03 05:00:00  COOP:055881  NEDERLAND 5 NNW CO US   0.0   \n",
       "\n",
       "                    Measurement Flag Quality Flag  \n",
       "DATE                                               \n",
       "2000-01-01 00:00:00                ]               \n",
       "2000-01-01 01:00:00                g               \n",
       "2000-01-02 20:00:00                             q  \n",
       "2000-01-03 01:00:00                             q  \n",
       "2000-01-03 05:00:00                             q  "
      ]
     },
     "execution_count": 12,
     "metadata": {},
     "output_type": "execute_result"
    }
   ],
   "source": [
    "# set DATE coumn as index\n",
    "precip = precip.set_index('DATE')\n",
    "\n",
    "# check new index\n",
    "precip.head()"
   ]
  },
  {
   "cell_type": "code",
   "execution_count": 13,
   "id": "536e33e5-f470-4a90-bef6-48d5d7638ae9",
   "metadata": {
    "tags": []
   },
   "outputs": [
    {
     "data": {
      "text/plain": [
       "<AxesSubplot:xlabel='DATE'>"
      ]
     },
     "execution_count": 13,
     "metadata": {},
     "output_type": "execute_result"
    },
    {
     "data": {
      "image/png": "[encoded data removed]",
      "text/plain": [
       "<Figure size 640x480 with 1 Axes>"
      ]
     },
     "metadata": {},
     "output_type": "display_data"
    }
   ],
   "source": [
    "precip.plot()"
   ]
  },
  {
   "cell_type": "markdown",
   "id": "92dad5ff-f8b9-48ec-af39-573791d7b7d3",
   "metadata": {},
   "source": [
    "### Subsetting By Date"
   ]
  },
  {
   "cell_type": "code",
   "execution_count": 14,
   "id": "043b6536-2a27-40da-8f03-0d82b6346b9c",
   "metadata": {
    "tags": []
   },
   "outputs": [
    {
     "data": {
      "text/html": [
       "<div>\n",
       "<style scoped>\n",
       "    .dataframe tbody tr th:only-of-type {\n",
       "        vertical-align: middle;\n",
       "    }\n",
       "\n",
       "    .dataframe tbody tr th {\n",
       "        vertical-align: top;\n",
       "    }\n",
       "\n",
       "    .dataframe thead th {\n",
       "        text-align: right;\n",
       "    }\n",
       "</style>\n",
       "<table border=\"1\" class=\"dataframe\">\n",
       "  <thead>\n",
       "    <tr style=\"text-align: right;\">\n",
       "      <th></th>\n",
       "      <th>STATION</th>\n",
       "      <th>STATION_NAME</th>\n",
       "      <th>HPCP</th>\n",
       "      <th>Measurement Flag</th>\n",
       "      <th>Quality Flag</th>\n",
       "    </tr>\n",
       "    <tr>\n",
       "      <th>DATE</th>\n",
       "      <th></th>\n",
       "      <th></th>\n",
       "      <th></th>\n",
       "      <th></th>\n",
       "      <th></th>\n",
       "    </tr>\n",
       "  </thead>\n",
       "  <tbody>\n",
       "    <tr>\n",
       "      <th>2013-09-01 00:00:00</th>\n",
       "      <td>COOP:055881</td>\n",
       "      <td>NEDERLAND 5 NNW CO US</td>\n",
       "      <td>NaN</td>\n",
       "      <td>]</td>\n",
       "      <td></td>\n",
       "    </tr>\n",
       "    <tr>\n",
       "      <th>2013-09-01 01:00:00</th>\n",
       "      <td>COOP:055881</td>\n",
       "      <td>NEDERLAND 5 NNW CO US</td>\n",
       "      <td>NaN</td>\n",
       "      <td>[</td>\n",
       "      <td></td>\n",
       "    </tr>\n",
       "    <tr>\n",
       "      <th>2013-09-01 00:00:00</th>\n",
       "      <td>COOP:050183</td>\n",
       "      <td>ALLENSPARK 2 SE CO US</td>\n",
       "      <td>NaN</td>\n",
       "      <td>]</td>\n",
       "      <td></td>\n",
       "    </tr>\n",
       "    <tr>\n",
       "      <th>2013-09-01 01:00:00</th>\n",
       "      <td>COOP:050183</td>\n",
       "      <td>ALLENSPARK 2 SE CO US</td>\n",
       "      <td>NaN</td>\n",
       "      <td>[</td>\n",
       "      <td></td>\n",
       "    </tr>\n",
       "    <tr>\n",
       "      <th>2013-09-01 00:00:00</th>\n",
       "      <td>COOP:055121</td>\n",
       "      <td>LONGMONT 6 NW CO US</td>\n",
       "      <td>NaN</td>\n",
       "      <td>}</td>\n",
       "      <td></td>\n",
       "    </tr>\n",
       "    <tr>\n",
       "      <th>...</th>\n",
       "      <td>...</td>\n",
       "      <td>...</td>\n",
       "      <td>...</td>\n",
       "      <td>...</td>\n",
       "      <td>...</td>\n",
       "    </tr>\n",
       "    <tr>\n",
       "      <th>2013-09-23 02:00:00</th>\n",
       "      <td>COOP:050843</td>\n",
       "      <td>BOULDER 2 CO US</td>\n",
       "      <td>0.2</td>\n",
       "      <td></td>\n",
       "      <td></td>\n",
       "    </tr>\n",
       "    <tr>\n",
       "      <th>2013-09-27 10:00:00</th>\n",
       "      <td>COOP:050843</td>\n",
       "      <td>BOULDER 2 CO US</td>\n",
       "      <td>0.1</td>\n",
       "      <td></td>\n",
       "      <td></td>\n",
       "    </tr>\n",
       "    <tr>\n",
       "      <th>2013-09-27 15:00:00</th>\n",
       "      <td>COOP:050843</td>\n",
       "      <td>BOULDER 2 CO US</td>\n",
       "      <td>0.1</td>\n",
       "      <td></td>\n",
       "      <td></td>\n",
       "    </tr>\n",
       "    <tr>\n",
       "      <th>2013-09-27 17:00:00</th>\n",
       "      <td>COOP:050843</td>\n",
       "      <td>BOULDER 2 CO US</td>\n",
       "      <td>0.1</td>\n",
       "      <td></td>\n",
       "      <td></td>\n",
       "    </tr>\n",
       "    <tr>\n",
       "      <th>2013-09-27 18:00:00</th>\n",
       "      <td>COOP:050843</td>\n",
       "      <td>BOULDER 2 CO US</td>\n",
       "      <td>0.1</td>\n",
       "      <td></td>\n",
       "      <td></td>\n",
       "    </tr>\n",
       "  </tbody>\n",
       "</table>\n",
       "<p>128 rows × 5 columns</p>\n",
       "</div>"
      ],
      "text/plain": [
       "                         STATION           STATION_NAME  HPCP  \\\n",
       "DATE                                                            \n",
       "2013-09-01 00:00:00  COOP:055881  NEDERLAND 5 NNW CO US   NaN   \n",
       "2013-09-01 01:00:00  COOP:055881  NEDERLAND 5 NNW CO US   NaN   \n",
       "2013-09-01 00:00:00  COOP:050183  ALLENSPARK 2 SE CO US   NaN   \n",
       "2013-09-01 01:00:00  COOP:050183  ALLENSPARK 2 SE CO US   NaN   \n",
       "2013-09-01 00:00:00  COOP:055121    LONGMONT 6 NW CO US   NaN   \n",
       "...                          ...                    ...   ...   \n",
       "2013-09-23 02:00:00  COOP:050843        BOULDER 2 CO US   0.2   \n",
       "2013-09-27 10:00:00  COOP:050843        BOULDER 2 CO US   0.1   \n",
       "2013-09-27 15:00:00  COOP:050843        BOULDER 2 CO US   0.1   \n",
       "2013-09-27 17:00:00  COOP:050843        BOULDER 2 CO US   0.1   \n",
       "2013-09-27 18:00:00  COOP:050843        BOULDER 2 CO US   0.1   \n",
       "\n",
       "                    Measurement Flag Quality Flag  \n",
       "DATE                                               \n",
       "2013-09-01 00:00:00                ]               \n",
       "2013-09-01 01:00:00                [               \n",
       "2013-09-01 00:00:00                ]               \n",
       "2013-09-01 01:00:00                [               \n",
       "2013-09-01 00:00:00                }               \n",
       "...                              ...          ...  \n",
       "2013-09-23 02:00:00                                \n",
       "2013-09-27 10:00:00                                \n",
       "2013-09-27 15:00:00                                \n",
       "2013-09-27 17:00:00                                \n",
       "2013-09-27 18:00:00                                \n",
       "\n",
       "[128 rows x 5 columns]"
      ]
     },
     "execution_count": 14,
     "metadata": {},
     "output_type": "execute_result"
    }
   ],
   "source": [
    "# select data from a given month and year\n",
    "# use loc['year-month']\n",
    "precip.loc['2013-09']"
   ]
  },
  {
   "cell_type": "code",
   "execution_count": 15,
   "id": "9b660d83-8bf3-4916-bb4f-85ae93886c13",
   "metadata": {
    "tags": []
   },
   "outputs": [
    {
     "data": {
      "text/html": [
       "<div>\n",
       "<style scoped>\n",
       "    .dataframe tbody tr th:only-of-type {\n",
       "        vertical-align: middle;\n",
       "    }\n",
       "\n",
       "    .dataframe tbody tr th {\n",
       "        vertical-align: top;\n",
       "    }\n",
       "\n",
       "    .dataframe thead th {\n",
       "        text-align: right;\n",
       "    }\n",
       "</style>\n",
       "<table border=\"1\" class=\"dataframe\">\n",
       "  <thead>\n",
       "    <tr style=\"text-align: right;\">\n",
       "      <th></th>\n",
       "      <th>STATION</th>\n",
       "      <th>STATION_NAME</th>\n",
       "      <th>HPCP</th>\n",
       "      <th>Measurement Flag</th>\n",
       "      <th>Quality Flag</th>\n",
       "    </tr>\n",
       "    <tr>\n",
       "      <th>DATE</th>\n",
       "      <th></th>\n",
       "      <th></th>\n",
       "      <th></th>\n",
       "      <th></th>\n",
       "      <th></th>\n",
       "    </tr>\n",
       "  </thead>\n",
       "  <tbody>\n",
       "    <tr>\n",
       "      <th>2013-01-01 01:00:00</th>\n",
       "      <td>COOP:055881</td>\n",
       "      <td>NEDERLAND 5 NNW CO US</td>\n",
       "      <td>0.0</td>\n",
       "      <td>g</td>\n",
       "      <td></td>\n",
       "    </tr>\n",
       "    <tr>\n",
       "      <th>2013-01-10 02:00:00</th>\n",
       "      <td>COOP:055881</td>\n",
       "      <td>NEDERLAND 5 NNW CO US</td>\n",
       "      <td>NaN</td>\n",
       "      <td>[</td>\n",
       "      <td></td>\n",
       "    </tr>\n",
       "    <tr>\n",
       "      <th>2013-01-13 00:00:00</th>\n",
       "      <td>COOP:055881</td>\n",
       "      <td>NEDERLAND 5 NNW CO US</td>\n",
       "      <td>NaN</td>\n",
       "      <td>]</td>\n",
       "      <td></td>\n",
       "    </tr>\n",
       "    <tr>\n",
       "      <th>2013-01-26 20:00:00</th>\n",
       "      <td>COOP:055881</td>\n",
       "      <td>NEDERLAND 5 NNW CO US</td>\n",
       "      <td>0.1</td>\n",
       "      <td></td>\n",
       "      <td></td>\n",
       "    </tr>\n",
       "    <tr>\n",
       "      <th>2013-01-28 23:00:00</th>\n",
       "      <td>COOP:055881</td>\n",
       "      <td>NEDERLAND 5 NNW CO US</td>\n",
       "      <td>0.1</td>\n",
       "      <td></td>\n",
       "      <td></td>\n",
       "    </tr>\n",
       "    <tr>\n",
       "      <th>...</th>\n",
       "      <td>...</td>\n",
       "      <td>...</td>\n",
       "      <td>...</td>\n",
       "      <td>...</td>\n",
       "      <td>...</td>\n",
       "    </tr>\n",
       "    <tr>\n",
       "      <th>2013-12-22 01:00:00</th>\n",
       "      <td>COOP:050843</td>\n",
       "      <td>BOULDER 2 CO US</td>\n",
       "      <td>NaN</td>\n",
       "      <td>[</td>\n",
       "      <td></td>\n",
       "    </tr>\n",
       "    <tr>\n",
       "      <th>2013-12-23 00:00:00</th>\n",
       "      <td>COOP:050843</td>\n",
       "      <td>BOULDER 2 CO US</td>\n",
       "      <td>NaN</td>\n",
       "      <td>]</td>\n",
       "      <td></td>\n",
       "    </tr>\n",
       "    <tr>\n",
       "      <th>2013-12-23 02:00:00</th>\n",
       "      <td>COOP:050843</td>\n",
       "      <td>BOULDER 2 CO US</td>\n",
       "      <td>0.1</td>\n",
       "      <td></td>\n",
       "      <td></td>\n",
       "    </tr>\n",
       "    <tr>\n",
       "      <th>2013-12-29 01:00:00</th>\n",
       "      <td>COOP:050843</td>\n",
       "      <td>BOULDER 2 CO US</td>\n",
       "      <td>NaN</td>\n",
       "      <td>[</td>\n",
       "      <td></td>\n",
       "    </tr>\n",
       "    <tr>\n",
       "      <th>2013-12-31 00:00:00</th>\n",
       "      <td>COOP:050843</td>\n",
       "      <td>BOULDER 2 CO US</td>\n",
       "      <td>NaN</td>\n",
       "      <td>]</td>\n",
       "      <td></td>\n",
       "    </tr>\n",
       "  </tbody>\n",
       "</table>\n",
       "<p>662 rows × 5 columns</p>\n",
       "</div>"
      ],
      "text/plain": [
       "                         STATION           STATION_NAME  HPCP  \\\n",
       "DATE                                                            \n",
       "2013-01-01 01:00:00  COOP:055881  NEDERLAND 5 NNW CO US   0.0   \n",
       "2013-01-10 02:00:00  COOP:055881  NEDERLAND 5 NNW CO US   NaN   \n",
       "2013-01-13 00:00:00  COOP:055881  NEDERLAND 5 NNW CO US   NaN   \n",
       "2013-01-26 20:00:00  COOP:055881  NEDERLAND 5 NNW CO US   0.1   \n",
       "2013-01-28 23:00:00  COOP:055881  NEDERLAND 5 NNW CO US   0.1   \n",
       "...                          ...                    ...   ...   \n",
       "2013-12-22 01:00:00  COOP:050843        BOULDER 2 CO US   NaN   \n",
       "2013-12-23 00:00:00  COOP:050843        BOULDER 2 CO US   NaN   \n",
       "2013-12-23 02:00:00  COOP:050843        BOULDER 2 CO US   0.1   \n",
       "2013-12-29 01:00:00  COOP:050843        BOULDER 2 CO US   NaN   \n",
       "2013-12-31 00:00:00  COOP:050843        BOULDER 2 CO US   NaN   \n",
       "\n",
       "                    Measurement Flag Quality Flag  \n",
       "DATE                                               \n",
       "2013-01-01 01:00:00                g               \n",
       "2013-01-10 02:00:00                [               \n",
       "2013-01-13 00:00:00                ]               \n",
       "2013-01-26 20:00:00                                \n",
       "2013-01-28 23:00:00                                \n",
       "...                              ...          ...  \n",
       "2013-12-22 01:00:00                [               \n",
       "2013-12-23 00:00:00                ]               \n",
       "2013-12-23 02:00:00                                \n",
       "2013-12-29 01:00:00                [               \n",
       "2013-12-31 00:00:00                ]               \n",
       "\n",
       "[662 rows x 5 columns]"
      ]
     },
     "execution_count": 15,
     "metadata": {},
     "output_type": "execute_result"
    }
   ],
   "source": [
    "# select data from a given year\n",
    "# use loc['year']\n",
    "precip.loc['2013']"
   ]
  },
  {
   "cell_type": "code",
   "execution_count": 16,
   "id": "192a1d8b-7d87-4bdb-be4f-854b9daff8c2",
   "metadata": {
    "tags": []
   },
   "outputs": [
    {
     "data": {
      "text/plain": [
       "<AxesSubplot:xlabel='DATE'>"
      ]
     },
     "execution_count": 16,
     "metadata": {},
     "output_type": "execute_result"
    },
    {
     "data": {
      "image/png": "[encoded data removed]",
      "text/plain": [
       "<Figure size 640x480 with 1 Axes>"
      ]
     },
     "metadata": {},
     "output_type": "display_data"
    }
   ],
   "source": [
    "precip.loc['2013'].plot()"
   ]
  },
  {
   "cell_type": "markdown",
   "id": "d11cb169-e2a1-4ee8-90c3-b246653e91b0",
   "metadata": {},
   "source": [
    "### Resampling\n",
    "\n",
    "Resampling a time series means converting a time series from one frequency to another. For example, monthly to yearly (downsampling) or weekly to daily (upsampling). We can resample with the resample() method. \n",
    "\n",
    "```\n",
    "df.resample(new_frequency).aggregator_function()\n",
    "```\n",
    "\n",
    "- `new_frequency` is a string representing the new frequence to resample the data, for example 'D' for day, w for week, M for month, Y for year, and - `aggregator_function()` is the function we will use to aggregate the data into the new frequence. For example, `max()`, `min()`, `sum()` or `average()`.\n",
    "\n",
    "- `resample()` works similarly to `groupby()` in the sense that you need to specify a way to aggregate the data to get any output."
   ]
  },
  {
   "cell_type": "code",
   "execution_count": 17,
   "id": "2daf7237-d522-4df2-b872-ad6a06369ce8",
   "metadata": {
    "tags": []
   },
   "outputs": [
    {
     "data": {
      "text/plain": [
       "<pandas.core.resample.DatetimeIndexResampler object at 0x7f1bbfd70040>"
      ]
     },
     "execution_count": 17,
     "metadata": {},
     "output_type": "execute_result"
    }
   ],
   "source": [
    "# resample 2013 hourly data to daily frequency\n",
    "# nothing happens\n",
    "precip.loc['2013'].resample('D')"
   ]
  },
  {
   "cell_type": "markdown",
   "id": "1e0aa6fa-04f8-4b21-bca7-f1fcc378ab93",
   "metadata": {},
   "source": [
    "To get an output we need to add an aggregator function that indicates how we want to summarize the data that falls on each day. In this case we want the total precipitation on a day, so we will aggreagte using `sum()`"
   ]
  },
  {
   "cell_type": "code",
   "execution_count": 18,
   "id": "4e49d2b3-e88f-42d9-9230-bbe1416dcade",
   "metadata": {
    "tags": []
   },
   "outputs": [
    {
     "data": {
      "text/html": [
       "<div>\n",
       "<style scoped>\n",
       "    .dataframe tbody tr th:only-of-type {\n",
       "        vertical-align: middle;\n",
       "    }\n",
       "\n",
       "    .dataframe tbody tr th {\n",
       "        vertical-align: top;\n",
       "    }\n",
       "\n",
       "    .dataframe thead th {\n",
       "        text-align: right;\n",
       "    }\n",
       "</style>\n",
       "<table border=\"1\" class=\"dataframe\">\n",
       "  <thead>\n",
       "    <tr style=\"text-align: right;\">\n",
       "      <th></th>\n",
       "      <th>HPCP</th>\n",
       "    </tr>\n",
       "    <tr>\n",
       "      <th>DATE</th>\n",
       "      <th></th>\n",
       "    </tr>\n",
       "  </thead>\n",
       "  <tbody>\n",
       "    <tr>\n",
       "      <th>2013-01-01</th>\n",
       "      <td>0.0</td>\n",
       "    </tr>\n",
       "    <tr>\n",
       "      <th>2013-01-02</th>\n",
       "      <td>0.0</td>\n",
       "    </tr>\n",
       "    <tr>\n",
       "      <th>2013-01-03</th>\n",
       "      <td>0.0</td>\n",
       "    </tr>\n",
       "    <tr>\n",
       "      <th>2013-01-04</th>\n",
       "      <td>0.0</td>\n",
       "    </tr>\n",
       "    <tr>\n",
       "      <th>2013-01-05</th>\n",
       "      <td>0.0</td>\n",
       "    </tr>\n",
       "    <tr>\n",
       "      <th>...</th>\n",
       "      <td>...</td>\n",
       "    </tr>\n",
       "    <tr>\n",
       "      <th>2013-12-27</th>\n",
       "      <td>0.0</td>\n",
       "    </tr>\n",
       "    <tr>\n",
       "      <th>2013-12-28</th>\n",
       "      <td>0.1</td>\n",
       "    </tr>\n",
       "    <tr>\n",
       "      <th>2013-12-29</th>\n",
       "      <td>0.0</td>\n",
       "    </tr>\n",
       "    <tr>\n",
       "      <th>2013-12-30</th>\n",
       "      <td>0.1</td>\n",
       "    </tr>\n",
       "    <tr>\n",
       "      <th>2013-12-31</th>\n",
       "      <td>0.0</td>\n",
       "    </tr>\n",
       "  </tbody>\n",
       "</table>\n",
       "<p>365 rows × 1 columns</p>\n",
       "</div>"
      ],
      "text/plain": [
       "            HPCP\n",
       "DATE            \n",
       "2013-01-01   0.0\n",
       "2013-01-02   0.0\n",
       "2013-01-03   0.0\n",
       "2013-01-04   0.0\n",
       "2013-01-05   0.0\n",
       "...          ...\n",
       "2013-12-27   0.0\n",
       "2013-12-28   0.1\n",
       "2013-12-29   0.0\n",
       "2013-12-30   0.1\n",
       "2013-12-31   0.0\n",
       "\n",
       "[365 rows x 1 columns]"
      ]
     },
     "execution_count": 18,
     "metadata": {},
     "output_type": "execute_result"
    }
   ],
   "source": [
    "# total daily precipitation in 2013\n",
    "daily_precip_2013 = precip.loc['2013'].resample('D').sum()\n",
    "\n",
    "daily_precip_2013"
   ]
  },
  {
   "cell_type": "code",
   "execution_count": 21,
   "id": "2aca73e7-0810-48b1-8704-6d4ad671ce9c",
   "metadata": {
    "tags": []
   },
   "outputs": [
    {
     "data": {
      "text/plain": [
       "<AxesSubplot:title={'center':'Precipitation in Boulder, CO during 2013'}, ylabel='Daily Precipitation (in)'>"
      ]
     },
     "execution_count": 21,
     "metadata": {},
     "output_type": "execute_result"
    },
    {
     "data": {
      "image/png": "[encoded data removed]",
      "text/plain": [
       "<Figure size 640x480 with 1 Axes>"
      ]
     },
     "metadata": {},
     "output_type": "display_data"
    }
   ],
   "source": [
    "# rename column\n",
    "daily_precip_2013 = daily_precip_2013.rename(columns={'HPCP':'daily_precipitation'})\n",
    "\n",
    "daily_precip_2013.plot(ylabel='Daily Precipitation (in)', \n",
    "                       xlabel='',\n",
    "                       title='Precipitation in Boulder, CO during 2013',\n",
    "                       legend=False)"
   ]
  }
 ],
 "metadata": {
  "kernelspec": {
   "display_name": "Anaconda 3 (Base)",
   "language": "python",
   "name": "base"
  },
  "language_info": {
   "codemirror_mode": {
    "name": "ipython",
    "version": 3
   },
   "file_extension": ".py",
   "mimetype": "text/x-python",
   "name": "python",
   "nbconvert_exporter": "python",
   "pygments_lexer": "ipython3",
   "version": "3.9.13"
  }
 },
 "nbformat": 4,
 "nbformat_minor": 5
}
