{
 "cells": [
  {
   "cell_type": "markdown",
   "id": "d3d1b37d-74cc-4479-8c54-a968608d81db",
   "metadata": {},
   "source": [
    "4 October 2023\n",
    "\n",
    "# `pandas`\n",
    "\n",
    "Review core `pandas` objects: `pandas.Series` and `pandas.DataFrame`\n",
    "\n",
    "- package built to wrangle and analyze tabular data\n",
    "- built on `NumPy` \n",
    "- core tool for data analysis in Python"
   ]
  },
  {
   "cell_type": "code",
   "execution_count": 1,
   "id": "c21ae4c2-0a74-4e72-9b54-ffcf4ef084fc",
   "metadata": {
    "tags": []
   },
   "outputs": [],
   "source": [
    "import pandas as pd\n",
    "import numpy as np"
   ]
  },
  {
   "cell_type": "markdown",
   "id": "3d3816dc-962e-4725-bf25-3a48e60c39c7",
   "metadata": {},
   "source": [
    "## Series\n",
    "\n",
    "`pandas.Series`:\n",
    "- one of the core data structures in `pandas`\n",
    "- a 1D array of *indexed* data\n",
    "- will be the columns of the `pandas.DataFrame`\n",
    "\n",
    "#### Creating a `pandas` series\n",
    "\n",
    "Several ways, but right now will use:\n",
    "\n",
    "```\n",
    "s = pd.Series(data, index=index)\n",
    "```\n",
    "\n",
    "- `data` is a numpy array (or a list of objects)\n",
    "- `index` is a list of indices of the same length as data"
   ]
  },
  {
   "cell_type": "code",
   "execution_count": 4,
   "id": "e9a2e9ec-6628-467f-bdb9-977e4b7051d3",
   "metadata": {
    "tags": []
   },
   "outputs": [
    {
     "data": {
      "text/plain": [
       "array([0, 1, 2])"
      ]
     },
     "execution_count": 4,
     "metadata": {},
     "output_type": "execute_result"
    }
   ],
   "source": [
    "np.arange(3) #makes an array of consecutive integers"
   ]
  },
  {
   "cell_type": "code",
   "execution_count": 8,
   "id": "6d6bb5e1-0fbf-4404-a524-8fb6b76c012f",
   "metadata": {
    "tags": []
   },
   "outputs": [
    {
     "data": {
      "text/plain": [
       "a    0\n",
       "b    1\n",
       "c    2\n",
       "dtype: int64"
      ]
     },
     "execution_count": 8,
     "metadata": {},
     "output_type": "execute_result"
    }
   ],
   "source": [
    "#we can use this to create a pandas Series\n",
    "pd.Series(np.arange(3), index = ['a','b','c'])"
   ]
  },
  {
   "cell_type": "markdown",
   "id": "bb912d1c-b9ef-4ed7-9e56-25608dfd5d90",
   "metadata": {},
   "source": [
    "index is an optional parameter, default is to start index at 0"
   ]
  },
  {
   "cell_type": "code",
   "execution_count": 11,
   "id": "921df1af-b4f5-4b1e-8bc7-c457e542a636",
   "metadata": {
    "tags": []
   },
   "outputs": [
    {
     "data": {
      "text/plain": [
       "0    EDS220\n",
       "1    EDS222\n",
       "2    EDS223\n",
       "3    EDS242\n",
       "dtype: object"
      ]
     },
     "execution_count": 11,
     "metadata": {},
     "output_type": "execute_result"
    }
   ],
   "source": [
    "# Create a series from a list of strings with default index\n",
    "pd.Series(['EDS220', 'EDS222', 'EDS223', 'EDS242'])"
   ]
  },
  {
   "cell_type": "markdown",
   "id": "e8ed4ec6-28ed-4eae-b897-8c538a97ba0c",
   "metadata": {},
   "source": [
    "#### Operations of series\n",
    "\n",
    "Arithmetic operations work on series on most `NumPy` functions"
   ]
  },
  {
   "cell_type": "code",
   "execution_count": 15,
   "id": "0e1a0648-d7c3-424d-9e24-2322ed3ddff6",
   "metadata": {
    "tags": []
   },
   "outputs": [
    {
     "name": "stdout",
     "output_type": "stream",
     "text": [
      "Andy        98\n",
      "Beth        73\n",
      "Carolina    65\n",
      "dtype: int64 \n",
      "\n",
      "Andy        9.8\n",
      "Beth        7.3\n",
      "Carolina    6.5\n",
      "dtype: float64\n"
     ]
    }
   ],
   "source": [
    "s = pd.Series([98,73,65], index = ['Andy', 'Beth', 'Carolina'])\n",
    "print(s, '\\n') #\\n adds an empty line\n",
    "\n",
    "#divide each element in the series by 10\n",
    "print(s/10)"
   ]
  },
  {
   "cell_type": "markdown",
   "id": "e4cb296f-a08a-4939-83ac-5cbbe55624a2",
   "metadata": {},
   "source": [
    "##### Conditionals in a series:"
   ]
  },
  {
   "cell_type": "code",
   "execution_count": 16,
   "id": "eb5ab868-f3bf-4c14-ace1-28df7260d406",
   "metadata": {
    "tags": []
   },
   "outputs": [
    {
     "data": {
      "text/plain": [
       "Andy         True\n",
       "Beth         True\n",
       "Carolina    False\n",
       "dtype: bool"
      ]
     },
     "execution_count": 16,
     "metadata": {},
     "output_type": "execute_result"
    }
   ],
   "source": [
    "s > 70"
   ]
  },
  {
   "cell_type": "markdown",
   "id": "3e39b738-959a-4231-a8a0-adc89b5d1221",
   "metadata": {},
   "source": [
    "This is simple but important! Used to select data from data frames."
   ]
  },
  {
   "cell_type": "markdown",
   "id": "61f81f51-346b-43b1-9554-0504ed0ae209",
   "metadata": {},
   "source": [
    "#### Attributes and Methods of a Series\n",
    "\n",
    "Two examples about identifying missing values\n",
    "\n",
    "- missing values represented by `np.NaN`\n",
    "- `NaN` is a type of float"
   ]
  },
  {
   "cell_type": "code",
   "execution_count": 18,
   "id": "29428619-cd7c-4f9a-9b57-c7aac4035336",
   "metadata": {
    "tags": []
   },
   "outputs": [
    {
     "data": {
      "text/plain": [
       "float"
      ]
     },
     "execution_count": 18,
     "metadata": {},
     "output_type": "execute_result"
    }
   ],
   "source": [
    "type(np.NaN)"
   ]
  },
  {
   "cell_type": "code",
   "execution_count": 20,
   "id": "035adb44-ef96-4228-8536-fb0e40b83d9d",
   "metadata": {
    "tags": []
   },
   "outputs": [
    {
     "data": {
      "text/plain": [
       "0    1.0\n",
       "1    2.0\n",
       "2    NaN\n",
       "3    4.0\n",
       "4    NaN\n",
       "dtype: float64"
      ]
     },
     "execution_count": 20,
     "metadata": {},
     "output_type": "execute_result"
    }
   ],
   "source": [
    "#series with NAs in it\n",
    "\n",
    "s2 = pd.Series([1,2,np.NaN,4,np.NaN])\n",
    "s2"
   ]
  },
  {
   "cell_type": "markdown",
   "id": "6e708487-f89b-4736-9113-a5c4e6f7b9cb",
   "metadata": {},
   "source": [
    "`hasnans` is an attribute of a `pandas` series, return `TRUE` if there are NAs"
   ]
  },
  {
   "cell_type": "code",
   "execution_count": 21,
   "id": "c2eb1e51-e996-4ca5-b30d-4ea9c25d93f4",
   "metadata": {
    "tags": []
   },
   "outputs": [
    {
     "data": {
      "text/plain": [
       "True"
      ]
     },
     "execution_count": 21,
     "metadata": {},
     "output_type": "execute_result"
    }
   ],
   "source": [
    "s2.hasnans"
   ]
  },
  {
   "cell_type": "markdown",
   "id": "1a978b1e-e093-459f-86f2-81467a816813",
   "metadata": {},
   "source": [
    "`isna()` is a *method* of a series, returns a series indicating which elements are NAs"
   ]
  },
  {
   "cell_type": "code",
   "execution_count": 22,
   "id": "834277a6-86f3-4bb9-a2e3-812bd65ad281",
   "metadata": {
    "tags": []
   },
   "outputs": [
    {
     "data": {
      "text/plain": [
       "0    False\n",
       "1    False\n",
       "2     True\n",
       "3    False\n",
       "4     True\n",
       "dtype: bool"
      ]
     },
     "execution_count": 22,
     "metadata": {},
     "output_type": "execute_result"
    }
   ],
   "source": [
    "s2.isna()"
   ]
  },
  {
   "cell_type": "markdown",
   "id": "759f2950-39f3-4c9a-a2ac-8ef2d1bef74c",
   "metadata": {},
   "source": [
    "`bool`: either `TRUE` or `FALSE`"
   ]
  },
  {
   "cell_type": "markdown",
   "id": "62e6e422-d0d5-4155-9bd3-f45349da9ab4",
   "metadata": {},
   "source": [
    "## Dataframes\n",
    "\n",
    "`pandas.DataFrame` \n",
    "\n",
    "- most used object in `pandas`\n",
    "- tabular data\n",
    "- each column is a `pandas.Series`\n",
    "\n",
    "#### Creating a `pandas.DataFrame`\n",
    "\n",
    "**dictionaries**: sets of key-value pairs\n",
    "```\n",
    "{ 'key1' : value1,\n",
    "  'key2' : value2\n",
    " }\n",
    "```\n",
    "- keys are column names and values are values in the column"
   ]
  },
  {
   "cell_type": "code",
   "execution_count": 25,
   "id": "3bb2730f-33bf-4f43-b6ac-844475e58d0d",
   "metadata": {
    "tags": []
   },
   "outputs": [
    {
     "data": {
      "text/plain": [
       "{'col_name_1': array([0, 1, 2]), 'col_name_2': [3.1, 3.2, 3.3]}"
      ]
     },
     "execution_count": 25,
     "metadata": {},
     "output_type": "execute_result"
    }
   ],
   "source": [
    "d = { 'col_name_1' : np.arange(3),\n",
    "    'col_name_2' : [3.1,3.2,3.3]\n",
    "    }\n",
    "d"
   ]
  },
  {
   "cell_type": "code",
   "execution_count": 28,
   "id": "57db608e-3185-4215-bc9b-2409ac8604c6",
   "metadata": {
    "tags": []
   },
   "outputs": [
    {
     "data": {
      "text/html": [
       "<div>\n",
       "<style scoped>\n",
       "    .dataframe tbody tr th:only-of-type {\n",
       "        vertical-align: middle;\n",
       "    }\n",
       "\n",
       "    .dataframe tbody tr th {\n",
       "        vertical-align: top;\n",
       "    }\n",
       "\n",
       "    .dataframe thead th {\n",
       "        text-align: right;\n",
       "    }\n",
       "</style>\n",
       "<table border=\"1\" class=\"dataframe\">\n",
       "  <thead>\n",
       "    <tr style=\"text-align: right;\">\n",
       "      <th></th>\n",
       "      <th>col_name_1</th>\n",
       "      <th>col_name_2</th>\n",
       "    </tr>\n",
       "  </thead>\n",
       "  <tbody>\n",
       "    <tr>\n",
       "      <th>0</th>\n",
       "      <td>0</td>\n",
       "      <td>3.1</td>\n",
       "    </tr>\n",
       "    <tr>\n",
       "      <th>1</th>\n",
       "      <td>1</td>\n",
       "      <td>3.2</td>\n",
       "    </tr>\n",
       "    <tr>\n",
       "      <th>2</th>\n",
       "      <td>2</td>\n",
       "      <td>3.3</td>\n",
       "    </tr>\n",
       "  </tbody>\n",
       "</table>\n",
       "</div>"
      ],
      "text/plain": [
       "   col_name_1  col_name_2\n",
       "0           0         3.1\n",
       "1           1         3.2\n",
       "2           2         3.3"
      ]
     },
     "execution_count": 28,
     "metadata": {},
     "output_type": "execute_result"
    }
   ],
   "source": [
    "df = pd.DataFrame(d)\n",
    "\n",
    "df"
   ]
  },
  {
   "cell_type": "markdown",
   "id": "c915784a-3731-40a7-8d06-d653f3d13ee7",
   "metadata": {},
   "source": [
    "#### In place operations\n",
    "\n",
    "Rename the data frame's columns using the method `rename`\n",
    "- takes in as an input in a dictionary\n",
    "\n",
    "```\n",
    "{'old_name_1' : 'new_name_1'\n",
    " 'old_name_2' : 'new_name_2'\n",
    "}\n",
    "```"
   ]
  },
  {
   "cell_type": "code",
   "execution_count": 35,
   "id": "a1b50e93-c80a-40cd-b98f-4efa673c500e",
   "metadata": {
    "tags": []
   },
   "outputs": [
    {
     "data": {
      "text/html": [
       "<div>\n",
       "<style scoped>\n",
       "    .dataframe tbody tr th:only-of-type {\n",
       "        vertical-align: middle;\n",
       "    }\n",
       "\n",
       "    .dataframe tbody tr th {\n",
       "        vertical-align: top;\n",
       "    }\n",
       "\n",
       "    .dataframe thead th {\n",
       "        text-align: right;\n",
       "    }\n",
       "</style>\n",
       "<table border=\"1\" class=\"dataframe\">\n",
       "  <thead>\n",
       "    <tr style=\"text-align: right;\">\n",
       "      <th></th>\n",
       "      <th>col1</th>\n",
       "      <th>col2</th>\n",
       "    </tr>\n",
       "  </thead>\n",
       "  <tbody>\n",
       "    <tr>\n",
       "      <th>0</th>\n",
       "      <td>0</td>\n",
       "      <td>3.1</td>\n",
       "    </tr>\n",
       "    <tr>\n",
       "      <th>1</th>\n",
       "      <td>1</td>\n",
       "      <td>3.2</td>\n",
       "    </tr>\n",
       "    <tr>\n",
       "      <th>2</th>\n",
       "      <td>2</td>\n",
       "      <td>3.3</td>\n",
       "    </tr>\n",
       "  </tbody>\n",
       "</table>\n",
       "</div>"
      ],
      "text/plain": [
       "   col1  col2\n",
       "0     0   3.1\n",
       "1     1   3.2\n",
       "2     2   3.3"
      ]
     },
     "execution_count": 35,
     "metadata": {},
     "output_type": "execute_result"
    }
   ],
   "source": [
    "col_names = {'col_name_1' : 'col1',\n",
    "            'col_name_2' : 'col2'}\n",
    "\n",
    "df.rename(columns = col_names) # does not actually replace!!"
   ]
  },
  {
   "cell_type": "code",
   "execution_count": 32,
   "id": "659c7378-631e-49b4-a29d-34991e565304",
   "metadata": {
    "tags": []
   },
   "outputs": [
    {
     "data": {
      "text/html": [
       "<div>\n",
       "<style scoped>\n",
       "    .dataframe tbody tr th:only-of-type {\n",
       "        vertical-align: middle;\n",
       "    }\n",
       "\n",
       "    .dataframe tbody tr th {\n",
       "        vertical-align: top;\n",
       "    }\n",
       "\n",
       "    .dataframe thead th {\n",
       "        text-align: right;\n",
       "    }\n",
       "</style>\n",
       "<table border=\"1\" class=\"dataframe\">\n",
       "  <thead>\n",
       "    <tr style=\"text-align: right;\">\n",
       "      <th></th>\n",
       "      <th>col_name_1</th>\n",
       "      <th>col_name_2</th>\n",
       "    </tr>\n",
       "  </thead>\n",
       "  <tbody>\n",
       "    <tr>\n",
       "      <th>0</th>\n",
       "      <td>0</td>\n",
       "      <td>3.1</td>\n",
       "    </tr>\n",
       "    <tr>\n",
       "      <th>1</th>\n",
       "      <td>1</td>\n",
       "      <td>3.2</td>\n",
       "    </tr>\n",
       "    <tr>\n",
       "      <th>2</th>\n",
       "      <td>2</td>\n",
       "      <td>3.3</td>\n",
       "    </tr>\n",
       "  </tbody>\n",
       "</table>\n",
       "</div>"
      ],
      "text/plain": [
       "   col_name_1  col_name_2\n",
       "0           0         3.1\n",
       "1           1         3.2\n",
       "2           2         3.3"
      ]
     },
     "execution_count": 32,
     "metadata": {},
     "output_type": "execute_result"
    }
   ],
   "source": [
    "df"
   ]
  },
  {
   "cell_type": "markdown",
   "id": "2828b39f-e95a-4066-9411-1a83affadfe4",
   "metadata": {},
   "source": [
    "This does not change the column name of the object itself; creates a new object as an output."
   ]
  },
  {
   "cell_type": "code",
   "execution_count": 34,
   "id": "450561e5-13ea-405f-aebb-0ca5afae5d42",
   "metadata": {
    "tags": []
   },
   "outputs": [
    {
     "data": {
      "text/html": [
       "<div>\n",
       "<style scoped>\n",
       "    .dataframe tbody tr th:only-of-type {\n",
       "        vertical-align: middle;\n",
       "    }\n",
       "\n",
       "    .dataframe tbody tr th {\n",
       "        vertical-align: top;\n",
       "    }\n",
       "\n",
       "    .dataframe thead th {\n",
       "        text-align: right;\n",
       "    }\n",
       "</style>\n",
       "<table border=\"1\" class=\"dataframe\">\n",
       "  <thead>\n",
       "    <tr style=\"text-align: right;\">\n",
       "      <th></th>\n",
       "      <th>col1</th>\n",
       "      <th>col2</th>\n",
       "    </tr>\n",
       "  </thead>\n",
       "  <tbody>\n",
       "    <tr>\n",
       "      <th>0</th>\n",
       "      <td>0</td>\n",
       "      <td>3.1</td>\n",
       "    </tr>\n",
       "    <tr>\n",
       "      <th>1</th>\n",
       "      <td>1</td>\n",
       "      <td>3.2</td>\n",
       "    </tr>\n",
       "    <tr>\n",
       "      <th>2</th>\n",
       "      <td>2</td>\n",
       "      <td>3.3</td>\n",
       "    </tr>\n",
       "  </tbody>\n",
       "</table>\n",
       "</div>"
      ],
      "text/plain": [
       "   col1  col2\n",
       "0     0   3.1\n",
       "1     1   3.2\n",
       "2     2   3.3"
      ]
     },
     "execution_count": 34,
     "metadata": {},
     "output_type": "execute_result"
    }
   ],
   "source": [
    "df = df.rename(columns = col_names)\n",
    "df"
   ]
  }
 ],
 "metadata": {
  "kernelspec": {
   "display_name": "Anaconda 3 (Base)",
   "language": "python",
   "name": "base"
  },
  "language_info": {
   "codemirror_mode": {
    "name": "ipython",
    "version": 3
   },
   "file_extension": ".py",
   "mimetype": "text/x-python",
   "name": "python",
   "nbconvert_exporter": "python",
   "pygments_lexer": "ipython3",
   "version": "3.9.13"
  }
 },
 "nbformat": 4,
 "nbformat_minor": 5
}
